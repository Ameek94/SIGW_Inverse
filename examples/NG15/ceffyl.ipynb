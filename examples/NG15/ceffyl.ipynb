{
 "cells": [
  {
   "cell_type": "code",
   "execution_count": 2,
   "metadata": {},
   "outputs": [
    {
     "name": "stdout",
     "output_type": "stream",
     "text": [
      "Optional mpi4py package is not installed.  MPI support is not available.\n",
      "Warning: cannot find astropy, units support will not be available.\n"
     ]
    }
   ],
   "source": [
    "%reload_ext autoreload\n",
    "%autoreload 2\n",
    "%config InlineBackend.figure_format ='retina'\n",
    "%matplotlib inline\n",
    "import sys,os\n",
    "sys.path.append('../../')\n",
    "\n",
    "import numpy as np\n",
    "import matplotlib.pyplot as plt\n",
    "import corner\n",
    "from ceffyl import Ceffyl, models, Sampler, chain_utils\n",
    "from enterprise.signals import parameter\n",
    "# import ultranest\n",
    "\n",
    "import la_forge.core as co\n",
    "import la_forge.diagnostics as dg\n",
    "\n",
    "import natpy as nat\n",
    "\n",
    "# from jax import config\n",
    "# config.update(\"jax_enable_x64\", True)\n",
    "# import jax\n",
    "# import jax.numpy as jnp\n"
   ]
  },
  {
   "cell_type": "code",
   "execution_count": 7,
   "metadata": {},
   "outputs": [
    {
     "name": "stdout",
     "output_type": "stream",
     "text": [
      "505861299.1401643\n"
     ]
    }
   ],
   "source": [
    "data_dir = './NG15_Ceffyl/30f_fs{hd}_ceffyl/'\n",
    "pta = Ceffyl.ceffyl(datadir=data_dir)\n",
    "gw = Ceffyl.signal(psd=models.powerlaw, N_freqs=5)\n",
    "pta.add_signals([gw])\n",
    "print(pta.Tspan)"
   ]
  },
  {
   "cell_type": "code",
   "execution_count": null,
   "metadata": {},
   "outputs": [
    {
     "name": "stdout",
     "output_type": "stream",
     "text": [
      "['gw_log10_A', 'gw_gamma']\n",
      "['gw_log10_A', 'gw_gamma']\n",
      "[-16.83483622   0.77957284]\n",
      "-84.87087067196366\n",
      "(2, 2)\n",
      "[[-14.           3.        ]\n",
      " [-16.83483622   0.77957284]]\n"
     ]
    },
    {
     "ename": "ValueError",
     "evalue": "non-broadcastable output operand with shape (1,5) doesn't match the broadcast shape (2,5)",
     "output_type": "error",
     "traceback": [
      "\u001b[0;31m---------------------------------------------------------------------------\u001b[0m",
      "\u001b[0;31mValueError\u001b[0m                                Traceback (most recent call last)",
      "Cell \u001b[0;32mIn[6], line 18\u001b[0m\n\u001b[1;32m     16\u001b[0m \u001b[38;5;28mprint\u001b[39m(params\u001b[38;5;241m.\u001b[39mshape)\n\u001b[1;32m     17\u001b[0m \u001b[38;5;28mprint\u001b[39m(params)\n\u001b[0;32m---> 18\u001b[0m \u001b[38;5;28mprint\u001b[39m(\u001b[43mpta\u001b[49m\u001b[38;5;241;43m.\u001b[39;49m\u001b[43mln_likelihood\u001b[49m\u001b[43m(\u001b[49m\u001b[43mparams\u001b[49m\u001b[43m)\u001b[49m)\n",
      "File \u001b[0;32m/opt/homebrew/Caskroom/miniforge/base/envs/ptagw/lib/python3.10/site-packages/ceffyl/Ceffyl.py:482\u001b[0m, in \u001b[0;36mceffyl.ln_likelihood\u001b[0;34m(self, xs, jacobian)\u001b[0m\n\u001b[1;32m    478\u001b[0m \u001b[38;5;28;01mfor\u001b[39;00m s \u001b[38;5;129;01min\u001b[39;00m \u001b[38;5;28mself\u001b[39m\u001b[38;5;241m.\u001b[39mcp_signals:  \u001b[38;5;66;03m# iterate through CP signals\u001b[39;00m\n\u001b[1;32m    479\u001b[0m     \u001b[38;5;66;03m# reshape array to vectorise to size (N_kwargs, N_sig_psrs)\u001b[39;00m\n\u001b[1;32m    480\u001b[0m     mapped_xs \u001b[38;5;241m=\u001b[39m {s_i\u001b[38;5;241m.\u001b[39mname: xs[p]\n\u001b[1;32m    481\u001b[0m                  \u001b[38;5;28;01mfor\u001b[39;00m p, s_i \u001b[38;5;129;01min\u001b[39;00m \u001b[38;5;28mzip\u001b[39m(s\u001b[38;5;241m.\u001b[39mpmap, s\u001b[38;5;241m.\u001b[39mparams)}\n\u001b[0;32m--> 482\u001b[0m     cp_rho[s\u001b[38;5;241m.\u001b[39mixgrid] \u001b[38;5;241m+\u001b[39m\u001b[38;5;241m=\u001b[39m s\u001b[38;5;241m.\u001b[39mget_rho(\u001b[38;5;28mself\u001b[39m\u001b[38;5;241m.\u001b[39mreshaped_freqs[s\u001b[38;5;241m.\u001b[39mfreq_idxs],\n\u001b[1;32m    483\u001b[0m                                   Tspan\u001b[38;5;241m=\u001b[39m\u001b[38;5;28mself\u001b[39m\u001b[38;5;241m.\u001b[39mTspan,\n\u001b[1;32m    484\u001b[0m                                   mapped_xs\u001b[38;5;241m=\u001b[39mmapped_xs)\n\u001b[1;32m    486\u001b[0m rho \u001b[38;5;241m=\u001b[39m red_rho \u001b[38;5;241m+\u001b[39m cp_rho  \u001b[38;5;66;03m# total rho\u001b[39;00m\n\u001b[1;32m    487\u001b[0m logrho \u001b[38;5;241m=\u001b[39m \u001b[38;5;241m0.5\u001b[39m\u001b[38;5;241m*\u001b[39mnp\u001b[38;5;241m.\u001b[39mlog10(rho)  \u001b[38;5;66;03m# calculate log10 root PSD\u001b[39;00m\n",
      "\u001b[0;31mValueError\u001b[0m: non-broadcastable output operand with shape (1,5) doesn't match the broadcast shape (2,5)"
     ]
    }
   ],
   "source": [
    "params_dict = {'log10_A': -14, 'gamma': 3}\n",
    "# pta.ln_likelihood(params )\n",
    "\n",
    "print(pta.signals[0].param_names)\n",
    "\n",
    "for s in pta.signals:\n",
    "    print(s.param_names)\n",
    "\n",
    "x0 = pta.initial_samples()\n",
    "print(x0)\n",
    "print(pta.ln_likelihood(x0))\n",
    "params = np.array([-14.,3.])\n",
    "\n",
    "\n",
    "params = np.concatenate([[params], [x0]])\n",
    "print(params.shape)\n",
    "print(params)\n",
    "# print(pta.ln_likelihood(params))\n"
   ]
  },
  {
   "cell_type": "markdown",
   "metadata": {},
   "source": [
    "Conversion between OmegaGW and rho (sampled by Ceffyl)\n",
    "\n",
    "$h^2 \\Omega_{\\rm GW} = (8 \\pi^4 f^5 h^2 ) \\times 10^{(2\\log_{10}\\rho +\\log_{10}T_{\\rm span}) } / H_0^2$\n",
    "\n",
    "$T_{\\rm span}\\rho^2 = \\dfrac{\\Omega_{\\rm GW}H_0^2}{8 \\pi^4 f^5}$"
   ]
  },
  {
   "cell_type": "code",
   "execution_count": 14,
   "metadata": {},
   "outputs": [
    {
     "name": "stdout",
     "output_type": "stream",
     "text": [
      "[1.97682646e-09 3.95365292e-09 5.93047937e-09 7.90730583e-09\n",
      " 9.88413229e-09 1.18609587e-08 1.38377852e-08 1.58146117e-08\n",
      " 1.77914381e-08 1.97682646e-08 2.17450910e-08 2.37219175e-08\n",
      " 2.56987439e-08 2.76755704e-08 2.96523969e-08 3.16292233e-08\n",
      " 3.36060498e-08 3.55828762e-08 3.75597027e-08 3.95365292e-08\n",
      " 4.15133556e-08 4.34901821e-08 4.54670085e-08 4.74438350e-08\n",
      " 4.94206614e-08 5.13974879e-08 5.33743144e-08 5.53511408e-08\n",
      " 5.73279673e-08 5.93047937e-08]\n"
     ]
    },
    {
     "ename": "AttributeError",
     "evalue": "partially initialized module 'jax' has no attribute 'version' (most likely due to a circular import)",
     "output_type": "error",
     "traceback": [
      "\u001b[0;31m---------------------------------------------------------------------------\u001b[0m",
      "\u001b[0;31mAttributeError\u001b[0m                            Traceback (most recent call last)",
      "Cell \u001b[0;32mIn[14], line 27\u001b[0m\n\u001b[1;32m     24\u001b[0m frequencies \u001b[38;5;241m=\u001b[39m np\u001b[38;5;241m.\u001b[39mload(\u001b[38;5;124mf\u001b[39m\u001b[38;5;124m'\u001b[39m\u001b[38;5;132;01m{\u001b[39;00mdata_dir\u001b[38;5;132;01m}\u001b[39;00m\u001b[38;5;124m/freqs.npy\u001b[39m\u001b[38;5;124m'\u001b[39m)\n\u001b[1;32m     25\u001b[0m \u001b[38;5;28mprint\u001b[39m(frequencies)\n\u001b[0;32m---> 27\u001b[0m \u001b[38;5;28;01mfrom\u001b[39;00m \u001b[38;5;21;01mgwb\u001b[39;00m\u001b[38;5;21;01m.\u001b[39;00m\u001b[38;5;21;01momega_gw_jax\u001b[39;00m \u001b[38;5;28;01mimport\u001b[39;00m OmegaGWJax\n\u001b[1;32m     28\u001b[0m s \u001b[38;5;241m=\u001b[39m np\u001b[38;5;241m.\u001b[39mlinspace(\u001b[38;5;241m0\u001b[39m, \u001b[38;5;241m1\u001b[39m, \u001b[38;5;241m15\u001b[39m)  \u001b[38;5;66;03m# First rescaled internal momentum\u001b[39;00m\n\u001b[1;32m     29\u001b[0m t \u001b[38;5;241m=\u001b[39m np\u001b[38;5;241m.\u001b[39mlogspace(\u001b[38;5;241m-\u001b[39m\u001b[38;5;241m5\u001b[39m,\u001b[38;5;241m5\u001b[39m, \u001b[38;5;241m250\u001b[39m)  \u001b[38;5;66;03m# Second rescaled internal momentum\u001b[39;00m\n",
      "File \u001b[0;32m~/cosmocodes/SIGW_Inverse/examples/NG15/../../gwb/omega_gw_jax.py:4\u001b[0m\n\u001b[1;32m      2\u001b[0m \u001b[38;5;28;01mfrom\u001b[39;00m \u001b[38;5;21;01mscipy\u001b[39;00m\u001b[38;5;21;01m.\u001b[39;00m\u001b[38;5;21;01mspecial\u001b[39;00m \u001b[38;5;28;01mimport\u001b[39;00m sici\n\u001b[1;32m      3\u001b[0m \u001b[38;5;28;01mfrom\u001b[39;00m \u001b[38;5;21;01mgwb\u001b[39;00m\u001b[38;5;21;01m.\u001b[39;00m\u001b[38;5;21;01mbase\u001b[39;00m \u001b[38;5;28;01mimport\u001b[39;00m BaseSpectrumCalculator\n\u001b[0;32m----> 4\u001b[0m \u001b[38;5;28;01mimport\u001b[39;00m \u001b[38;5;21;01mjax\u001b[39;00m\n\u001b[1;32m      5\u001b[0m \u001b[38;5;28;01mimport\u001b[39;00m \u001b[38;5;21;01mjax\u001b[39;00m\u001b[38;5;21;01m.\u001b[39;00m\u001b[38;5;21;01mnumpy\u001b[39;00m \u001b[38;5;28;01mas\u001b[39;00m \u001b[38;5;21;01mjnp\u001b[39;00m\n\u001b[1;32m      6\u001b[0m \u001b[38;5;28;01mfrom\u001b[39;00m \u001b[38;5;21;01mjax\u001b[39;00m \u001b[38;5;28;01mimport\u001b[39;00m jit, jvp, lax\n",
      "File \u001b[0;32m/opt/homebrew/Caskroom/miniforge/base/envs/ptagw/lib/python3.10/site-packages/jax/__init__.py:25\u001b[0m\n\u001b[1;32m     22\u001b[0m \u001b[38;5;28;01mfrom\u001b[39;00m \u001b[38;5;21;01mjax\u001b[39;00m\u001b[38;5;21;01m.\u001b[39;00m\u001b[38;5;21;01mversion\u001b[39;00m \u001b[38;5;28;01mimport\u001b[39;00m __version_info__ \u001b[38;5;28;01mas\u001b[39;00m __version_info__\n\u001b[1;32m     24\u001b[0m \u001b[38;5;66;03m# Set Cloud TPU env vars if necessary before transitively loading C++ backend\u001b[39;00m\n\u001b[0;32m---> 25\u001b[0m \u001b[38;5;28;01mfrom\u001b[39;00m \u001b[38;5;21;01mjax\u001b[39;00m\u001b[38;5;21;01m.\u001b[39;00m\u001b[38;5;21;01m_src\u001b[39;00m\u001b[38;5;21;01m.\u001b[39;00m\u001b[38;5;21;01mcloud_tpu_init\u001b[39;00m \u001b[38;5;28;01mimport\u001b[39;00m cloud_tpu_init \u001b[38;5;28;01mas\u001b[39;00m _cloud_tpu_init\n\u001b[1;32m     26\u001b[0m \u001b[38;5;28;01mtry\u001b[39;00m:\n\u001b[1;32m     27\u001b[0m   _cloud_tpu_init()\n",
      "File \u001b[0;32m/opt/homebrew/Caskroom/miniforge/base/envs/ptagw/lib/python3.10/site-packages/jax/_src/cloud_tpu_init.py:17\u001b[0m\n\u001b[1;32m     15\u001b[0m \u001b[38;5;28;01mimport\u001b[39;00m \u001b[38;5;21;01mos\u001b[39;00m\n\u001b[1;32m     16\u001b[0m \u001b[38;5;28;01mfrom\u001b[39;00m \u001b[38;5;21;01mjax\u001b[39;00m \u001b[38;5;28;01mimport\u001b[39;00m version\n\u001b[0;32m---> 17\u001b[0m \u001b[38;5;28;01mfrom\u001b[39;00m \u001b[38;5;21;01mjax\u001b[39;00m\u001b[38;5;21;01m.\u001b[39;00m\u001b[38;5;21;01m_src\u001b[39;00m \u001b[38;5;28;01mimport\u001b[39;00m config\n\u001b[1;32m     18\u001b[0m \u001b[38;5;28;01mfrom\u001b[39;00m \u001b[38;5;21;01mjax\u001b[39;00m\u001b[38;5;21;01m.\u001b[39;00m\u001b[38;5;21;01m_src\u001b[39;00m \u001b[38;5;28;01mimport\u001b[39;00m hardware_utils\n\u001b[1;32m     20\u001b[0m running_in_cloud_tpu_vm: \u001b[38;5;28mbool\u001b[39m \u001b[38;5;241m=\u001b[39m \u001b[38;5;28;01mFalse\u001b[39;00m\n",
      "File \u001b[0;32m/opt/homebrew/Caskroom/miniforge/base/envs/ptagw/lib/python3.10/site-packages/jax/_src/config.py:26\u001b[0m\n\u001b[1;32m     23\u001b[0m \u001b[38;5;28;01mimport\u001b[39;00m \u001b[38;5;21;01msys\u001b[39;00m\n\u001b[1;32m     24\u001b[0m \u001b[38;5;28;01mfrom\u001b[39;00m \u001b[38;5;21;01mtyping\u001b[39;00m \u001b[38;5;28;01mimport\u001b[39;00m Any, Generic, NoReturn, Optional, Protocol, TypeVar, cast\n\u001b[0;32m---> 26\u001b[0m \u001b[38;5;28;01mfrom\u001b[39;00m \u001b[38;5;21;01mjax\u001b[39;00m\u001b[38;5;21;01m.\u001b[39;00m\u001b[38;5;21;01m_src\u001b[39;00m\u001b[38;5;21;01m.\u001b[39;00m\u001b[38;5;21;01mlib\u001b[39;00m \u001b[38;5;28;01mimport\u001b[39;00m guard_lib\n\u001b[1;32m     27\u001b[0m \u001b[38;5;28;01mfrom\u001b[39;00m \u001b[38;5;21;01mjax\u001b[39;00m\u001b[38;5;21;01m.\u001b[39;00m\u001b[38;5;21;01m_src\u001b[39;00m\u001b[38;5;21;01m.\u001b[39;00m\u001b[38;5;21;01mlib\u001b[39;00m \u001b[38;5;28;01mimport\u001b[39;00m jax_jit\n\u001b[1;32m     28\u001b[0m \u001b[38;5;28;01mfrom\u001b[39;00m \u001b[38;5;21;01mjax\u001b[39;00m\u001b[38;5;21;01m.\u001b[39;00m\u001b[38;5;21;01m_src\u001b[39;00m\u001b[38;5;21;01m.\u001b[39;00m\u001b[38;5;21;01mlib\u001b[39;00m \u001b[38;5;28;01mimport\u001b[39;00m xla_client\n",
      "File \u001b[0;32m/opt/homebrew/Caskroom/miniforge/base/envs/ptagw/lib/python3.10/site-packages/jax/_src/lib/__init__.py:76\u001b[0m\n\u001b[1;32m     71\u001b[0m   \u001b[38;5;28;01mreturn\u001b[39;00m _jaxlib_version\n\u001b[1;32m     74\u001b[0m version_str \u001b[38;5;241m=\u001b[39m jaxlib\u001b[38;5;241m.\u001b[39mversion\u001b[38;5;241m.\u001b[39m__version__\n\u001b[1;32m     75\u001b[0m version \u001b[38;5;241m=\u001b[39m check_jaxlib_version(\n\u001b[0;32m---> 76\u001b[0m   jax_version\u001b[38;5;241m=\u001b[39m\u001b[43mjax\u001b[49m\u001b[38;5;241;43m.\u001b[39;49m\u001b[43mversion\u001b[49m\u001b[38;5;241m.\u001b[39m__version__,\n\u001b[1;32m     77\u001b[0m   jaxlib_version\u001b[38;5;241m=\u001b[39mjaxlib\u001b[38;5;241m.\u001b[39mversion\u001b[38;5;241m.\u001b[39m__version__,\n\u001b[1;32m     78\u001b[0m   minimum_jaxlib_version\u001b[38;5;241m=\u001b[39mjax\u001b[38;5;241m.\u001b[39mversion\u001b[38;5;241m.\u001b[39m_minimum_jaxlib_version)\n\u001b[1;32m     80\u001b[0m \u001b[38;5;66;03m# Before importing any C compiled modules from jaxlib, first import the CPU\u001b[39;00m\n\u001b[1;32m     81\u001b[0m \u001b[38;5;66;03m# feature guard module to verify that jaxlib was compiled in a way that only\u001b[39;00m\n\u001b[1;32m     82\u001b[0m \u001b[38;5;66;03m# uses instructions that are present on this machine.\u001b[39;00m\n\u001b[1;32m     83\u001b[0m \u001b[38;5;28;01mimport\u001b[39;00m \u001b[38;5;21;01mjaxlib\u001b[39;00m\u001b[38;5;21;01m.\u001b[39;00m\u001b[38;5;21;01mcpu_feature_guard\u001b[39;00m \u001b[38;5;28;01mas\u001b[39;00m \u001b[38;5;21;01mcpu_feature_guard\u001b[39;00m\n",
      "\u001b[0;31mAttributeError\u001b[0m: partially initialized module 'jax' has no attribute 'version' (most likely due to a circular import)"
     ]
    }
   ],
   "source": [
    "# convert to OmegaGW\n",
    "Tspan = 15 * 365 * 24 * 3600\n",
    "h = 0.672\n",
    "# print(data_list.shape)\n",
    "H_0  = h * 100 * nat.convert(nat.km * nat.s**-1 * nat.Mpc**-1, nat.GeV) # Hubble constant (GeV)\n",
    "H_0_Hz  = H_0 * nat.convert(nat.GeV, nat.Hz)\n",
    "# print(H_0_Hz)\n",
    "# OmegaGW_data = (8*np.pi**4 * freqs[:,None]**5 * h**2 * 10**(2 * data_list + np.log10(Tspan)) ) / (H_0_Hz**2)\n",
    "# OmegaGW_data  = np.log10(OmegaGW_data)\n",
    "\n",
    "from scipy.interpolate import CubicSpline\n",
    "\n",
    "left_node = -9.\n",
    "right_node = -7.\n",
    "\n",
    "def interpolate(nodes,vals,x):\n",
    "    # nodes = jnp.pad(nodes, (1,1), 'constant', constant_values=(left_node, right_node))\n",
    "    spl = CubicSpline(nodes,vals,check=False)\n",
    "    res = np.power(10,spl(x))\n",
    "    res = np.where(x<left_node, 0, res)\n",
    "    res = np.where(x>right_node, 0, res)\n",
    "    return res\n",
    "\n",
    "frequencies = np.load(f'{data_dir}/freqs.npy')\n",
    "print(frequencies)\n",
    "\n",
    "from gwb.omega_gw_jax import OmegaGWJax\n",
    "s = np.linspace(0, 1, 15)  # First rescaled internal momentum\n",
    "t = np.logspace(-5,5, 250)  # Second rescaled internal momentum\n",
    "t_expanded = np.expand_dims(t, axis=-1)\n",
    "## Repeat t along the new axis to match the shape (100, 1000)\n",
    "t = np.repeat(t_expanded, len(frequencies), axis=-1)\n",
    "\n",
    "gwb_calculator = OmegaGWjax(s=s,t=t,f=frequencies,norm=\"RD\",jit=True)\n",
    "\n",
    "def get_gwb(nodes,vals):\n",
    "    pf = lambda k: interpolate(nodes,vals,np.log10(k))\n",
    "    omegagw = gwb_calculator(pf,frequencies)\n",
    "    return (omegagw,)\n",
    "\n",
    "get_gwb_func = jax.jit(get_gwb)\n",
    "\n"
   ]
  },
  {
   "cell_type": "code",
   "execution_count": null,
   "metadata": {},
   "outputs": [],
   "source": []
  }
 ],
 "metadata": {
  "kernelspec": {
   "display_name": "ptagw",
   "language": "python",
   "name": "python3"
  },
  "language_info": {
   "codemirror_mode": {
    "name": "ipython",
    "version": 3
   },
   "file_extension": ".py",
   "mimetype": "text/x-python",
   "name": "python",
   "nbconvert_exporter": "python",
   "pygments_lexer": "ipython3",
   "version": "3.10.13"
  }
 },
 "nbformat": 4,
 "nbformat_minor": 2
}
