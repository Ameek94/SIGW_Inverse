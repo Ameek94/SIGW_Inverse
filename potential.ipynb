{
 "cells": [
  {
   "cell_type": "code",
   "execution_count": 3,
   "metadata": {},
   "outputs": [],
   "source": [
    "import jax.numpy as jnp\n",
    "from jax import random, jit, vmap\n",
    "from potential.ms_solver import SingleFieldSolver\n",
    "from potential.omega_gw_ms import OmegaGWms\n",
    "from interpax import CubicSpline"
   ]
  },
  {
   "cell_type": "code",
   "execution_count": 13,
   "metadata": {},
   "outputs": [
    {
     "name": "stderr",
     "output_type": "stream",
     "text": [
      "/opt/homebrew/Caskroom/miniforge/base/envs/sigwjax/lib/python3.13/site-packages/equinox/_jit.py:55: UserWarning: `diffrax.diffeqsolve(..., discrete_terminating_event=...)` is deprecated in favour of the more general `diffrax.diffeqsolve(..., event=...)` interface. This will be removed in some future version of Diffrax.\n",
      "  out = fun(*args, **kwargs)\n",
      "ERROR:2025-03-20 21:24:16,888:jax._src.callback:97: jax.pure_callback failed\n",
      "Traceback (most recent call last):\n",
      "  File \"/opt/homebrew/Caskroom/miniforge/base/envs/sigwjax/lib/python3.13/site-packages/jax/_src/callback.py\", line 95, in pure_callback_impl\n",
      "    return tree_util.tree_map(np.asarray, callback(*args))\n",
      "                                          ~~~~~~~~^^^^^^^\n",
      "  File \"/opt/homebrew/Caskroom/miniforge/base/envs/sigwjax/lib/python3.13/site-packages/jax/_src/callback.py\", line 72, in __call__\n",
      "    return tree_util.tree_leaves(self.callback_func(*args, **kwargs))\n",
      "                                 ~~~~~~~~~~~~~~~~~~^^^^^^^^^^^^^^^^^\n",
      "  File \"/opt/homebrew/Caskroom/miniforge/base/envs/sigwjax/lib/python3.13/site-packages/equinox/_errors.py\", line 89, in raises\n",
      "    raise _EquinoxRuntimeError(\n",
      "    ...<9 lines>...\n",
      "    )\n",
      "equinox._errors._EquinoxRuntimeError: The maximum number of solver steps was reached. Try increasing `max_steps`.\n",
      "\n",
      "\n",
      "--------------------\n",
      "An error occurred during the runtime of your JAX program! Unfortunately you do not appear to be using `equinox.filter_jit` (perhaps you are using `jax.jit` instead?) and so further information about the error cannot be displayed. (Probably you are seeing a very large but uninformative error message right now.) Please wrap your program with `equinox.filter_jit`.\n",
      "--------------------\n",
      "\n"
     ]
    },
    {
     "ename": "XlaRuntimeError",
     "evalue": "INTERNAL: CpuCallback error: Traceback (most recent call last):\n  File \"/opt/homebrew/Caskroom/miniforge/base/envs/sigwjax/lib/python3.13/site-packages/jax/_src/interpreters/mlir.py\", line 2960, in _wrapped_callback\n  File \"/opt/homebrew/Caskroom/miniforge/base/envs/sigwjax/lib/python3.13/site-packages/jax/_src/callback.py\", line 306, in _callback\n  File \"/opt/homebrew/Caskroom/miniforge/base/envs/sigwjax/lib/python3.13/site-packages/jax/_src/callback.py\", line 98, in pure_callback_impl\n  File \"/opt/homebrew/Caskroom/miniforge/base/envs/sigwjax/lib/python3.13/site-packages/jax/_src/callback.py\", line 72, in __call__\n  File \"/opt/homebrew/Caskroom/miniforge/base/envs/sigwjax/lib/python3.13/site-packages/equinox/_errors.py\", line 89, in raises\n_EquinoxRuntimeError: The maximum number of solver steps was reached. Try increasing `max_steps`.\n\n\n--------------------\nAn error occurred during the runtime of your JAX program! Unfortunately you do not appear to be using `equinox.filter_jit` (perhaps you are using `jax.jit` instead?) and so further information about the error cannot be displayed. (Probably you are seeing a very large but uninformative error message right now.) Please wrap your program with `equinox.filter_jit`.\n--------------------\n",
     "output_type": "error",
     "traceback": [
      "\u001b[31m---------------------------------------------------------------------------\u001b[39m",
      "\u001b[31mXlaRuntimeError\u001b[39m                           Traceback (most recent call last)",
      "\u001b[36mCell\u001b[39m\u001b[36m \u001b[39m\u001b[32mIn[13]\u001b[39m\u001b[32m, line 16\u001b[39m\n\u001b[32m     14\u001b[39m \u001b[38;5;66;03m# Define the single field solver\u001b[39;00m\n\u001b[32m     15\u001b[39m model = SingleFieldSolver(Vphi, phi0=phi0, pi0=pi0, N_CMB_to_end=\u001b[32m58.0\u001b[39m, k=k)\n\u001b[32m---> \u001b[39m\u001b[32m16\u001b[39m fig = \u001b[43mmodel\u001b[49m\u001b[43m.\u001b[49m\u001b[43mplot_evolution\u001b[49m\u001b[43m(\u001b[49m\u001b[43mk\u001b[49m\u001b[43m,\u001b[49m\u001b[43m[\u001b[49m\u001b[43m]\u001b[49m\u001b[43m)\u001b[49m\n\u001b[32m     17\u001b[39m pzeta = model.run(k)\n",
      "\u001b[36mFile \u001b[39m\u001b[32m~/cosmocodes/SIGW_Inverse/potential/ms_solver.py:969\u001b[39m, in \u001b[36mSingleFieldSolver.plot_evolution\u001b[39m\u001b[34m(self, k, params)\u001b[39m\n\u001b[32m    953\u001b[39m \u001b[38;5;250m\u001b[39m\u001b[33;03m\"\"\"\u001b[39;00m\n\u001b[32m    954\u001b[39m \u001b[33;03mPlot the evolution of the background and perturbations.\u001b[39;00m\n\u001b[32m    955\u001b[39m \n\u001b[32m   (...)\u001b[39m\u001b[32m    966\u001b[39m \u001b[33;03m    The matplotlib figure object containing the plots.\u001b[39;00m\n\u001b[32m    967\u001b[39m \u001b[33;03m\"\"\"\u001b[39;00m\n\u001b[32m    968\u001b[39m \u001b[38;5;66;03m# Compute background evolution\u001b[39;00m\n\u001b[32m--> \u001b[39m\u001b[32m969\u001b[39m N, phi, y, h = \u001b[38;5;28;43mself\u001b[39;49m\u001b[43m.\u001b[49m\u001b[43mrun_background\u001b[49m\u001b[43m(\u001b[49m\u001b[43mparams\u001b[49m\u001b[43m)\u001b[49m\n\u001b[32m    970\u001b[39m Pzeta_SR = \u001b[38;5;28mself\u001b[39m.pzeta_sr(y, h, params)\n\u001b[32m    972\u001b[39m Nend = jnp.max(N)\n",
      "\u001b[36mFile \u001b[39m\u001b[32m~/cosmocodes/SIGW_Inverse/potential/ms_solver.py:577\u001b[39m, in \u001b[36mSingleFieldSolver.run_background\u001b[39m\u001b[34m(self, params)\u001b[39m\n\u001b[32m    557\u001b[39m \u001b[38;5;28;01mdef\u001b[39;00m\u001b[38;5;250m \u001b[39m\u001b[34mrun_background\u001b[39m(\u001b[38;5;28mself\u001b[39m, params):\n\u001b[32m    558\u001b[39m \u001b[38;5;250m    \u001b[39m\u001b[33;03m\"\"\"\u001b[39;00m\n\u001b[32m    559\u001b[39m \u001b[33;03m    Run the background evolution of the field.\u001b[39;00m\n\u001b[32m    560\u001b[39m \n\u001b[32m   (...)\u001b[39m\u001b[32m    575\u001b[39m \u001b[33;03m        Array of Hubble parameter values.\u001b[39;00m\n\u001b[32m    576\u001b[39m \u001b[33;03m    \"\"\"\u001b[39;00m\n\u001b[32m--> \u001b[39m\u001b[32m577\u001b[39m     bsol = \u001b[43m_run_background\u001b[49m\u001b[43m(\u001b[49m\n\u001b[32m    578\u001b[39m \u001b[43m        \u001b[49m\u001b[38;5;28;43mself\u001b[39;49m\u001b[43m.\u001b[49m\u001b[43mUd\u001b[49m\u001b[43m,\u001b[49m\n\u001b[32m    579\u001b[39m \u001b[43m        \u001b[49m\u001b[38;5;28;43mself\u001b[39;49m\u001b[43m.\u001b[49m\u001b[43mmax_efolds\u001b[49m\u001b[43m,\u001b[49m\n\u001b[32m    580\u001b[39m \u001b[43m        \u001b[49m\u001b[38;5;28;43mself\u001b[39;49m\u001b[43m.\u001b[49m\u001b[43mphi0\u001b[49m\u001b[43m,\u001b[49m\n\u001b[32m    581\u001b[39m \u001b[43m        \u001b[49m\u001b[43mparams\u001b[49m\u001b[43m,\u001b[49m\n\u001b[32m    582\u001b[39m \u001b[43m        \u001b[49m\u001b[38;5;28;43mself\u001b[39;49m\u001b[43m.\u001b[49m\u001b[43mbackground_solver_opts\u001b[49m\u001b[43m,\u001b[49m\n\u001b[32m    583\u001b[39m \u001b[43m    \u001b[49m\u001b[43m)\u001b[49m\n\u001b[32m    584\u001b[39m     bmask = jnp.isfinite(bsol.ts)\n\u001b[32m    585\u001b[39m     N = bsol.ts[bmask]\n",
      "    \u001b[31m[... skipping hidden 5 frame]\u001b[39m\n",
      "\u001b[36mFile \u001b[39m\u001b[32m/opt/homebrew/Caskroom/miniforge/base/envs/sigwjax/lib/python3.13/site-packages/jax/_src/interpreters/pxla.py:1289\u001b[39m, in \u001b[36mExecuteReplicated.__call__\u001b[39m\u001b[34m(self, *args)\u001b[39m\n\u001b[32m   1286\u001b[39m \u001b[38;5;28;01mif\u001b[39;00m (\u001b[38;5;28mself\u001b[39m.ordered_effects \u001b[38;5;129;01mor\u001b[39;00m \u001b[38;5;28mself\u001b[39m.has_unordered_effects\n\u001b[32m   1287\u001b[39m     \u001b[38;5;129;01mor\u001b[39;00m \u001b[38;5;28mself\u001b[39m.has_host_callbacks):\n\u001b[32m   1288\u001b[39m   input_bufs = \u001b[38;5;28mself\u001b[39m._add_tokens_to_inputs(input_bufs)\n\u001b[32m-> \u001b[39m\u001b[32m1289\u001b[39m   results = \u001b[38;5;28;43mself\u001b[39;49m\u001b[43m.\u001b[49m\u001b[43mxla_executable\u001b[49m\u001b[43m.\u001b[49m\u001b[43mexecute_sharded\u001b[49m\u001b[43m(\u001b[49m\n\u001b[32m   1290\u001b[39m \u001b[43m      \u001b[49m\u001b[43minput_bufs\u001b[49m\u001b[43m,\u001b[49m\u001b[43m \u001b[49m\u001b[43mwith_tokens\u001b[49m\u001b[43m=\u001b[49m\u001b[38;5;28;43;01mTrue\u001b[39;49;00m\n\u001b[32m   1291\u001b[39m \u001b[43m  \u001b[49m\u001b[43m)\u001b[49m\n\u001b[32m   1293\u001b[39m   result_token_bufs = results.disassemble_prefix_into_single_device_arrays(\n\u001b[32m   1294\u001b[39m       \u001b[38;5;28mlen\u001b[39m(\u001b[38;5;28mself\u001b[39m.ordered_effects))\n\u001b[32m   1295\u001b[39m   sharded_runtime_token = results.consume_token()\n",
      "\u001b[31mXlaRuntimeError\u001b[39m: INTERNAL: CpuCallback error: Traceback (most recent call last):\n  File \"/opt/homebrew/Caskroom/miniforge/base/envs/sigwjax/lib/python3.13/site-packages/jax/_src/interpreters/mlir.py\", line 2960, in _wrapped_callback\n  File \"/opt/homebrew/Caskroom/miniforge/base/envs/sigwjax/lib/python3.13/site-packages/jax/_src/callback.py\", line 306, in _callback\n  File \"/opt/homebrew/Caskroom/miniforge/base/envs/sigwjax/lib/python3.13/site-packages/jax/_src/callback.py\", line 98, in pure_callback_impl\n  File \"/opt/homebrew/Caskroom/miniforge/base/envs/sigwjax/lib/python3.13/site-packages/jax/_src/callback.py\", line 72, in __call__\n  File \"/opt/homebrew/Caskroom/miniforge/base/envs/sigwjax/lib/python3.13/site-packages/equinox/_errors.py\", line 89, in raises\n_EquinoxRuntimeError: The maximum number of solver steps was reached. Try increasing `max_steps`.\n\n\n--------------------\nAn error occurred during the runtime of your JAX program! Unfortunately you do not appear to be using `equinox.filter_jit` (perhaps you are using `jax.jit` instead?) and so further information about the error cannot be displayed. (Probably you are seeing a very large but uninformative error message right now.) Please wrap your program with `equinox.filter_jit`.\n--------------------\n"
     ]
    }
   ],
   "source": [
    "nodes = jnp.linspace(0,1,6)\n",
    "values = jnp.ones_like(nodes) #1-jnp.exp(1e-9*nodes)\n",
    "interp = CubicSpline(nodes, values,check=False)\n",
    "\n",
    "def Vphi(phi):\n",
    "    return interp(phi)\n",
    "\n",
    "phi0 = 3.0  # Initial field value\n",
    "pi0 = 0.0  # Initial field velocity (dphi/dN)\n",
    "k = jnp.geomspace(\n",
    "    1e-5,10,50\n",
    ")  # Define where to calculate P_zeta (in k space)\n",
    "\n",
    "# Define the single field solver\n",
    "model = SingleFieldSolver(Vphi, phi0=phi0, pi0=pi0, N_CMB_to_end=58.0, k=k)\n",
    "fig = model.plot_evolution(k,[])\n",
    "pzeta = model.run(k)\n"
   ]
  },
  {
   "cell_type": "code",
   "execution_count": null,
   "metadata": {},
   "outputs": [],
   "source": []
  }
 ],
 "metadata": {
  "kernelspec": {
   "display_name": "sigwjax",
   "language": "python",
   "name": "python3"
  },
  "language_info": {
   "codemirror_mode": {
    "name": "ipython",
    "version": 3
   },
   "file_extension": ".py",
   "mimetype": "text/x-python",
   "name": "python",
   "nbconvert_exporter": "python",
   "pygments_lexer": "ipython3",
   "version": "3.13.2"
  }
 },
 "nbformat": 4,
 "nbformat_minor": 2
}
