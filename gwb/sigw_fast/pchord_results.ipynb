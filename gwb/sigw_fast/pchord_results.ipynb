{
 "cells": [
  {
   "cell_type": "code",
   "execution_count": 17,
   "id": "43507304",
   "metadata": {},
   "outputs": [],
   "source": [
    "import numpy as np\n",
    "import matplotlib.pyplot as plt"
   ]
  },
  {
   "cell_type": "code",
   "execution_count": 18,
   "id": "90c3149f",
   "metadata": {},
   "outputs": [
    {
     "name": "stdout",
     "output_type": "stream",
     "text": [
      "(73, 60)\n",
      "(1638, 60)\n"
     ]
    }
   ],
   "source": [
    "data = np.load('./spectra_0p66_interp.npz')\n",
    "frequencies = data['frequencies']\n",
    "gwb_model = 'bpl'\n",
    "Omegas = data[f'gw_{gwb_model}'] \n",
    "kstar = 1e-3\n",
    "omks_sigma = Omegas * (0.05 * (np.log(frequencies / kstar))**2 + 0.1)\n",
    "cov = np.diag(omks_sigma**2)\n",
    "num_nodes = 5\n",
    "free_nodes = num_nodes - 2\n",
    "pk_arr = data['pk_arr']\n",
    "pk_min, pk_max = min(pk_arr), max(pk_arr)\n",
    "# pk_min, pk_max = np.array(min(frequencies) / fac), np.array(max(frequencies) * fac)\n",
    "left_node = np.log10(pk_min)\n",
    "right_node = np.log10(pk_max)\n",
    "\n",
    "equal_file = np.loadtxt(f'./chains/bpl_pchord_free_{num_nodes}_equal_weights.txt')\n",
    "data_file = np.loadtxt(f'./chains/bpl_pchord_free_{num_nodes}.txt')\n",
    "print(equal_file.shape)\n",
    "print(data_file.shape)\n",
    "\n",
    "\n",
    "\n"
   ]
  },
  {
   "cell_type": "code",
   "execution_count": 20,
   "id": "df141f6a",
   "metadata": {},
   "outputs": [
    {
     "name": "stdout",
     "output_type": "stream",
     "text": [
      "[ 6.65535318e-01  3.63223692e+00  3.70437048e-01 -3.38199130e+00\n",
      " -2.89274432e+00 -1.30366754e+00 -7.47854707e+00 -2.06511625e+00\n",
      " -1.73763448e+00 -2.52980007e+00  3.39560499e-11  4.33015006e-11\n",
      "  5.50548754e-11  6.97661925e-11  8.80819323e-11  1.10741888e-10\n",
      "  1.38571113e-10  1.72456578e-10  2.13290427e-10  2.61991770e-10\n",
      "  3.18987451e-10  3.84867596e-10  4.59459479e-10  5.42143413e-10\n",
      "  6.31884686e-10  7.27776594e-10  8.30349545e-10  9.43967159e-10\n",
      "  1.07975447e-09  1.25527624e-09  1.48791555e-09  1.78050966e-09\n",
      "  2.10615213e-09  2.43951662e-09  2.77497491e-09  3.10686296e-09\n",
      "  3.44841064e-09  3.80615408e-09  4.20390597e-09  4.61449789e-09\n",
      "  4.97254727e-09  5.21601442e-09  5.29860474e-09  5.21917802e-09\n",
      "  5.02778321e-09  4.72919405e-09  4.39976577e-09  4.05216802e-09\n",
      "  3.70659895e-09  3.41956095e-09  3.07798891e-09  2.79090188e-09\n",
      "  2.53544930e-09  2.30316749e-09  2.09171229e-09  1.89958466e-09\n",
      "  1.72452482e-09  1.64527712e-09  1.42500038e-09  1.29304887e-09]\n",
      "start and end: 3 6 6 11\n",
      "shapes: omegas: (1638, 49), xs: (1638, 5), ys: (1638, 5)\n"
     ]
    },
    {
     "ename": "ValueError",
     "evalue": "x and y must have same first dimension, but have shapes (50,) and (49,)",
     "output_type": "error",
     "traceback": [
      "\u001b[31m---------------------------------------------------------------------------\u001b[39m",
      "\u001b[31mValueError\u001b[39m                                Traceback (most recent call last)",
      "\u001b[36mCell\u001b[39m\u001b[36m \u001b[39m\u001b[32mIn[20]\u001b[39m\u001b[32m, line 26\u001b[39m\n\u001b[32m     24\u001b[39m \u001b[38;5;66;03m# plt.loglog()\u001b[39;00m\n\u001b[32m     25\u001b[39m plt.figure(figsize=(\u001b[32m8\u001b[39m, \u001b[32m6\u001b[39m))\n\u001b[32m---> \u001b[39m\u001b[32m26\u001b[39m \u001b[43mplt\u001b[49m\u001b[43m.\u001b[49m\u001b[43mloglog\u001b[49m\u001b[43m(\u001b[49m\u001b[43mfrequencies\u001b[49m\u001b[43m,\u001b[49m\u001b[43mbest_omega\u001b[49m\u001b[43m)\u001b[49m\n\u001b[32m     27\u001b[39m plt.loglog(frequencies, Omegas, color=\u001b[33m'\u001b[39m\u001b[33mk\u001b[39m\u001b[33m'\u001b[39m, lw=\u001b[32m1.5\u001b[39m, label=\u001b[33m'\u001b[39m\u001b[33mTruth\u001b[39m\u001b[33m'\u001b[39m)\n\u001b[32m     28\u001b[39m plt.errorbar(frequencies, Omegas, yerr=np.sqrt(np.diag(cov)), \n\u001b[32m     29\u001b[39m              fmt=\u001b[33m'\u001b[39m\u001b[33mo\u001b[39m\u001b[33m'\u001b[39m, color=\u001b[33m'\u001b[39m\u001b[33mk\u001b[39m\u001b[33m'\u001b[39m, capsize=\u001b[32m4.\u001b[39m,alpha=\u001b[32m0.5\u001b[39m,markersize=\u001b[32m2\u001b[39m)\n",
      "\u001b[36mFile \u001b[39m\u001b[32m/opt/homebrew/Caskroom/miniconda/base/envs/sigwjax/lib/python3.13/site-packages/matplotlib/pyplot.py:3631\u001b[39m, in \u001b[36mloglog\u001b[39m\u001b[34m(*args, **kwargs)\u001b[39m\n\u001b[32m   3629\u001b[39m \u001b[38;5;129m@_copy_docstring_and_deprecators\u001b[39m(Axes.loglog)\n\u001b[32m   3630\u001b[39m \u001b[38;5;28;01mdef\u001b[39;00m\u001b[38;5;250m \u001b[39m\u001b[34mloglog\u001b[39m(*args, **kwargs) -> \u001b[38;5;28mlist\u001b[39m[Line2D]:\n\u001b[32m-> \u001b[39m\u001b[32m3631\u001b[39m     \u001b[38;5;28;01mreturn\u001b[39;00m \u001b[43mgca\u001b[49m\u001b[43m(\u001b[49m\u001b[43m)\u001b[49m\u001b[43m.\u001b[49m\u001b[43mloglog\u001b[49m\u001b[43m(\u001b[49m\u001b[43m*\u001b[49m\u001b[43margs\u001b[49m\u001b[43m,\u001b[49m\u001b[43m \u001b[49m\u001b[43m*\u001b[49m\u001b[43m*\u001b[49m\u001b[43mkwargs\u001b[49m\u001b[43m)\u001b[49m\n",
      "\u001b[36mFile \u001b[39m\u001b[32m/opt/homebrew/Caskroom/miniconda/base/envs/sigwjax/lib/python3.13/site-packages/matplotlib/axes/_axes.py:1918\u001b[39m, in \u001b[36mAxes.loglog\u001b[39m\u001b[34m(self, *args, **kwargs)\u001b[39m\n\u001b[32m   1914\u001b[39m dy = {k: v \u001b[38;5;28;01mfor\u001b[39;00m k, v \u001b[38;5;129;01min\u001b[39;00m kwargs.items()\n\u001b[32m   1915\u001b[39m       \u001b[38;5;28;01mif\u001b[39;00m k \u001b[38;5;129;01min\u001b[39;00m [\u001b[33m'\u001b[39m\u001b[33mbase\u001b[39m\u001b[33m'\u001b[39m, \u001b[33m'\u001b[39m\u001b[33msubs\u001b[39m\u001b[33m'\u001b[39m, \u001b[33m'\u001b[39m\u001b[33mnonpositive\u001b[39m\u001b[33m'\u001b[39m,\n\u001b[32m   1916\u001b[39m                \u001b[33m'\u001b[39m\u001b[33mbasey\u001b[39m\u001b[33m'\u001b[39m, \u001b[33m'\u001b[39m\u001b[33msubsy\u001b[39m\u001b[33m'\u001b[39m, \u001b[33m'\u001b[39m\u001b[33mnonposy\u001b[39m\u001b[33m'\u001b[39m]}\n\u001b[32m   1917\u001b[39m \u001b[38;5;28mself\u001b[39m.set_yscale(\u001b[33m'\u001b[39m\u001b[33mlog\u001b[39m\u001b[33m'\u001b[39m, **dy)\n\u001b[32m-> \u001b[39m\u001b[32m1918\u001b[39m \u001b[38;5;28;01mreturn\u001b[39;00m \u001b[38;5;28;43mself\u001b[39;49m\u001b[43m.\u001b[49m\u001b[43mplot\u001b[49m\u001b[43m(\u001b[49m\n\u001b[32m   1919\u001b[39m \u001b[43m    \u001b[49m\u001b[43m*\u001b[49m\u001b[43margs\u001b[49m\u001b[43m,\u001b[49m\u001b[43m \u001b[49m\u001b[43m*\u001b[49m\u001b[43m*\u001b[49m\u001b[43m{\u001b[49m\u001b[43mk\u001b[49m\u001b[43m:\u001b[49m\u001b[43m \u001b[49m\u001b[43mv\u001b[49m\u001b[43m \u001b[49m\u001b[38;5;28;43;01mfor\u001b[39;49;00m\u001b[43m \u001b[49m\u001b[43mk\u001b[49m\u001b[43m,\u001b[49m\u001b[43m \u001b[49m\u001b[43mv\u001b[49m\u001b[43m \u001b[49m\u001b[38;5;129;43;01min\u001b[39;49;00m\u001b[43m \u001b[49m\u001b[43mkwargs\u001b[49m\u001b[43m.\u001b[49m\u001b[43mitems\u001b[49m\u001b[43m(\u001b[49m\u001b[43m)\u001b[49m\u001b[43m \u001b[49m\u001b[38;5;28;43;01mif\u001b[39;49;00m\u001b[43m \u001b[49m\u001b[43mk\u001b[49m\u001b[43m \u001b[49m\u001b[38;5;129;43;01mnot\u001b[39;49;00m\u001b[43m \u001b[49m\u001b[38;5;129;43;01min\u001b[39;49;00m\u001b[43m \u001b[49m\u001b[43m{\u001b[49m\u001b[43m*\u001b[49m\u001b[43mdx\u001b[49m\u001b[43m,\u001b[49m\u001b[43m \u001b[49m\u001b[43m*\u001b[49m\u001b[43mdy\u001b[49m\u001b[43m}\u001b[49m\u001b[43m}\u001b[49m\u001b[43m)\u001b[49m\n",
      "\u001b[36mFile \u001b[39m\u001b[32m/opt/homebrew/Caskroom/miniconda/base/envs/sigwjax/lib/python3.13/site-packages/matplotlib/axes/_axes.py:1777\u001b[39m, in \u001b[36mAxes.plot\u001b[39m\u001b[34m(self, scalex, scaley, data, *args, **kwargs)\u001b[39m\n\u001b[32m   1534\u001b[39m \u001b[38;5;250m\u001b[39m\u001b[33;03m\"\"\"\u001b[39;00m\n\u001b[32m   1535\u001b[39m \u001b[33;03mPlot y versus x as lines and/or markers.\u001b[39;00m\n\u001b[32m   1536\u001b[39m \n\u001b[32m   (...)\u001b[39m\u001b[32m   1774\u001b[39m \u001b[33;03m(``'green'``) or hex strings (``'#008000'``).\u001b[39;00m\n\u001b[32m   1775\u001b[39m \u001b[33;03m\"\"\"\u001b[39;00m\n\u001b[32m   1776\u001b[39m kwargs = cbook.normalize_kwargs(kwargs, mlines.Line2D)\n\u001b[32m-> \u001b[39m\u001b[32m1777\u001b[39m lines = [*\u001b[38;5;28mself\u001b[39m._get_lines(\u001b[38;5;28mself\u001b[39m, *args, data=data, **kwargs)]\n\u001b[32m   1778\u001b[39m \u001b[38;5;28;01mfor\u001b[39;00m line \u001b[38;5;129;01min\u001b[39;00m lines:\n\u001b[32m   1779\u001b[39m     \u001b[38;5;28mself\u001b[39m.add_line(line)\n",
      "\u001b[36mFile \u001b[39m\u001b[32m/opt/homebrew/Caskroom/miniconda/base/envs/sigwjax/lib/python3.13/site-packages/matplotlib/axes/_base.py:297\u001b[39m, in \u001b[36m_process_plot_var_args.__call__\u001b[39m\u001b[34m(self, axes, data, return_kwargs, *args, **kwargs)\u001b[39m\n\u001b[32m    295\u001b[39m     this += args[\u001b[32m0\u001b[39m],\n\u001b[32m    296\u001b[39m     args = args[\u001b[32m1\u001b[39m:]\n\u001b[32m--> \u001b[39m\u001b[32m297\u001b[39m \u001b[38;5;28;01myield from\u001b[39;00m \u001b[38;5;28;43mself\u001b[39;49m\u001b[43m.\u001b[49m\u001b[43m_plot_args\u001b[49m\u001b[43m(\u001b[49m\n\u001b[32m    298\u001b[39m \u001b[43m    \u001b[49m\u001b[43maxes\u001b[49m\u001b[43m,\u001b[49m\u001b[43m \u001b[49m\u001b[43mthis\u001b[49m\u001b[43m,\u001b[49m\u001b[43m \u001b[49m\u001b[43mkwargs\u001b[49m\u001b[43m,\u001b[49m\u001b[43m \u001b[49m\u001b[43mambiguous_fmt_datakey\u001b[49m\u001b[43m=\u001b[49m\u001b[43mambiguous_fmt_datakey\u001b[49m\u001b[43m,\u001b[49m\n\u001b[32m    299\u001b[39m \u001b[43m    \u001b[49m\u001b[43mreturn_kwargs\u001b[49m\u001b[43m=\u001b[49m\u001b[43mreturn_kwargs\u001b[49m\n\u001b[32m    300\u001b[39m \u001b[43m\u001b[49m\u001b[43m)\u001b[49m\n",
      "\u001b[36mFile \u001b[39m\u001b[32m/opt/homebrew/Caskroom/miniconda/base/envs/sigwjax/lib/python3.13/site-packages/matplotlib/axes/_base.py:494\u001b[39m, in \u001b[36m_process_plot_var_args._plot_args\u001b[39m\u001b[34m(self, axes, tup, kwargs, return_kwargs, ambiguous_fmt_datakey)\u001b[39m\n\u001b[32m    491\u001b[39m     axes.yaxis.update_units(y)\n\u001b[32m    493\u001b[39m \u001b[38;5;28;01mif\u001b[39;00m x.shape[\u001b[32m0\u001b[39m] != y.shape[\u001b[32m0\u001b[39m]:\n\u001b[32m--> \u001b[39m\u001b[32m494\u001b[39m     \u001b[38;5;28;01mraise\u001b[39;00m \u001b[38;5;167;01mValueError\u001b[39;00m(\u001b[33mf\u001b[39m\u001b[33m\"\u001b[39m\u001b[33mx and y must have same first dimension, but \u001b[39m\u001b[33m\"\u001b[39m\n\u001b[32m    495\u001b[39m                      \u001b[33mf\u001b[39m\u001b[33m\"\u001b[39m\u001b[33mhave shapes \u001b[39m\u001b[38;5;132;01m{\u001b[39;00mx.shape\u001b[38;5;132;01m}\u001b[39;00m\u001b[33m and \u001b[39m\u001b[38;5;132;01m{\u001b[39;00my.shape\u001b[38;5;132;01m}\u001b[39;00m\u001b[33m\"\u001b[39m)\n\u001b[32m    496\u001b[39m \u001b[38;5;28;01mif\u001b[39;00m x.ndim > \u001b[32m2\u001b[39m \u001b[38;5;129;01mor\u001b[39;00m y.ndim > \u001b[32m2\u001b[39m:\n\u001b[32m    497\u001b[39m     \u001b[38;5;28;01mraise\u001b[39;00m \u001b[38;5;167;01mValueError\u001b[39;00m(\u001b[33mf\u001b[39m\u001b[33m\"\u001b[39m\u001b[33mx and y can be no greater than 2D, but have \u001b[39m\u001b[33m\"\u001b[39m\n\u001b[32m    498\u001b[39m                      \u001b[33mf\u001b[39m\u001b[33m\"\u001b[39m\u001b[33mshapes \u001b[39m\u001b[38;5;132;01m{\u001b[39;00mx.shape\u001b[38;5;132;01m}\u001b[39;00m\u001b[33m and \u001b[39m\u001b[38;5;132;01m{\u001b[39;00my.shape\u001b[38;5;132;01m}\u001b[39;00m\u001b[33m\"\u001b[39m)\n",
      "\u001b[31mValueError\u001b[39m: x and y must have same first dimension, but have shapes (50,) and (49,)"
     ]
    },
    {
     "data": {
      "image/png": "[encoded data removed]",
      "text/plain": [
       "<Figure size 800x600 with 1 Axes>"
      ]
     },
     "metadata": {},
     "output_type": "display_data"
    },
    {
     "data": {
      "image/png": "[encoded data removed]",
      "text/plain": [
       "<Figure size 800x600 with 1 Axes>"
      ]
     },
     "metadata": {},
     "output_type": "display_data"
    }
   ],
   "source": [
    "# data file has weights -2*logL w xs (free_nodes) ys (num_nodes) derived_params (omegas at frequencies)\n",
    "num_nodes = 5\n",
    "best_idx = np.argmin(data_file[:, 1])\n",
    "weights = data_file[:, 0]\n",
    "ws = data_file[:, 2]\n",
    "\n",
    "plt.figure(figsize=(8, 6))\n",
    "plt.hist(ws, weights=weights, bins=25,range=(0, 1))\n",
    "\n",
    "print(data_file[best_idx])\n",
    "\n",
    "xs_start = 3\n",
    "xs_end = xs_start + num_nodes - 2\n",
    "ys_start = xs_end\n",
    "ys_end = ys_start + num_nodes\n",
    "xs = data_file[:, xs_start:xs_end]\n",
    "xs = np.pad(xs, ((0, 0), (1, 1)), 'constant', constant_values=((0, 0), (left_node, right_node)))\n",
    "ys = data_file[:, ys_start:ys_end]\n",
    "omega_start = ys_end\n",
    "print(f'start and end: {xs_start} {xs_end} {ys_start} {ys_end}')\n",
    "omegas = data_file[:, omega_start:]\n",
    "print(f\"shapes: omegas: {omegas.shape}, xs: {xs.shape}, ys: {ys.shape}\")\n",
    "best_omega = omegas[best_idx]\n",
    "# plt.loglog()\n",
    "plt.figure(figsize=(8, 6))\n",
    "plt.loglog(frequencies,best_omega)\n",
    "plt.loglog(frequencies, Omegas, color='k', lw=1.5, label='Truth')\n",
    "plt.errorbar(frequencies, Omegas, yerr=np.sqrt(np.diag(cov)), \n",
    "             fmt='o', color='k', capsize=4.,alpha=0.5,markersize=2)\n",
    "\n",
    "\n",
    "intervals=[99.7, 95., 68.]\n",
    "interval_cols=[('#006FED', 0.2), ('#006FED', 0.4), ('#006FED', 0.6)]\n",
    "\n",
    "for j, interval in enumerate(intervals):\n",
    "    print(interval)\n",
    "    y_low, y_high = np.percentile(omegas, [50 - interval / 2, 50 + interval / 2], axis=0\n",
    "                                          ,weights=weights,method='inverted_cdf')\n",
    "    plt.fill_between(frequencies, y_low, y_high, color=interval_cols[j][0], alpha=interval_cols[j][1])\n",
    "\n",
    "plt.legend()"
   ]
  },
  {
   "cell_type": "code",
   "execution_count": null,
   "id": "8c0034a0",
   "metadata": {},
   "outputs": [],
   "source": []
  }
 ],
 "metadata": {
  "kernelspec": {
   "display_name": "sigwjax",
   "language": "python",
   "name": "python3"
  },
  "language_info": {
   "codemirror_mode": {
    "name": "ipython",
    "version": 3
   },
   "file_extension": ".py",
   "mimetype": "text/x-python",
   "name": "python",
   "nbconvert_exporter": "python",
   "pygments_lexer": "ipython3",
   "version": "3.13.2"
  }
 },
 "nbformat": 4,
 "nbformat_minor": 5
}
