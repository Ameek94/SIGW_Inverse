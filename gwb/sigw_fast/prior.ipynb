{
 "cells": [
  {
   "cell_type": "code",
   "execution_count": 1,
   "id": "5f788ee6",
   "metadata": {},
   "outputs": [],
   "source": [
    "import numpy as np"
   ]
  },
  {
   "cell_type": "code",
   "execution_count": 9,
   "id": "8bfeb674",
   "metadata": {},
   "outputs": [
    {
     "name": "stdout",
     "output_type": "stream",
     "text": [
      "xs =  [0.68619672 0.60302534 0.068433   0.89613282 0.80512842 0.84681323\n",
      " 0.32825246 0.75729895 0.30149718 0.21680672]\n",
      "t =  [0.12222146 0.17811432 0.22936707 0.5607585  0.57634532 0.60187976\n",
      " 0.61879263 0.72553485 0.7511901  0.85823708]\n"
     ]
    }
   ],
   "source": [
    "def prior(xs):    \n",
    "    N = len(xs)\n",
    "    t = np.zeros(N)\n",
    "    t[N-1] = xs[N-1]**(1./N)\n",
    "    for n in range(N-2, -1, -1):\n",
    "        t[n] = xs[n]**(1./(n+1)) * t[n+1]\n",
    "    return t\n",
    "\n",
    "xs = np.random.uniform(0, 1, 10)\n",
    "\n",
    "t = prior(xs)\n",
    "print(\"xs = \", xs)\n",
    "print(\"t = \", t)\n"
   ]
  },
  {
   "cell_type": "code",
   "execution_count": 10,
   "id": "f6fd5938",
   "metadata": {},
   "outputs": [
    {
     "name": "stdout",
     "output_type": "stream",
     "text": [
      "xs =  [0.68619672 0.60302534 0.068433   0.89613282 0.80512842 0.84681323\n",
      " 0.32825246 0.75729895 0.30149718 0.21680672]\n"
     ]
    }
   ],
   "source": [
    "def inverse_prior(t):\n",
    "    N = len(t)\n",
    "    xs = np.zeros(N)\n",
    "    xs[N-1] = t[N-1]**N\n",
    "    for n in range(N-2,-1,-1):\n",
    "        xs[n] = (t[n]/t[n+1])**(n+1)\n",
    "    return xs\n",
    "\n",
    "xs_inv = inverse_prior(t)\n",
    "print(\"xs = \", xs)"
   ]
  },
  {
   "cell_type": "code",
   "execution_count": 11,
   "id": "36ef8951",
   "metadata": {},
   "outputs": [
    {
     "data": {
      "text/plain": [
       "True"
      ]
     },
     "execution_count": 11,
     "metadata": {},
     "output_type": "execute_result"
    }
   ],
   "source": [
    "np.allclose(xs, xs_inv)"
   ]
  },
  {
   "cell_type": "code",
   "execution_count": null,
   "id": "c54cd574",
   "metadata": {},
   "outputs": [],
   "source": []
  }
 ],
 "metadata": {
  "kernelspec": {
   "display_name": "sigwjax",
   "language": "python",
   "name": "python3"
  },
  "language_info": {
   "codemirror_mode": {
    "name": "ipython",
    "version": 3
   },
   "file_extension": ".py",
   "mimetype": "text/x-python",
   "name": "python",
   "nbconvert_exporter": "python",
   "pygments_lexer": "ipython3",
   "version": "3.13.2"
  }
 },
 "nbformat": 4,
 "nbformat_minor": 5
}
